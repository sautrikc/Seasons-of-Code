{
  "nbformat": 4,
  "nbformat_minor": 0,
  "metadata": {
    "colab": {
      "name": "AlexNet.ipynb",
      "provenance": [],
      "authorship_tag": "ABX9TyM2iEc8N2A4iGNz3mhlAnJ6",
      "include_colab_link": true
    },
    "kernelspec": {
      "name": "python3",
      "display_name": "Python 3"
    },
    "language_info": {
      "name": "python"
    },
    "accelerator": "GPU",
    "gpuClass": "standard"
  },
  "cells": [
    {
      "cell_type": "markdown",
      "metadata": {
        "id": "view-in-github",
        "colab_type": "text"
      },
      "source": [
        "<a href=\"https://colab.research.google.com/github/sautrikc/Seasons-of-Code/blob/main/AlexNet.ipynb\" target=\"_parent\"><img src=\"https://colab.research.google.com/assets/colab-badge.svg\" alt=\"Open In Colab\"/></a>"
      ]
    },
    {
      "cell_type": "markdown",
      "source": [
        "## 2D CNN"
      ],
      "metadata": {
        "id": "9yNRUxV4k---"
      }
    },
    {
      "cell_type": "markdown",
      "source": [
        "### 1. Importing important libraries"
      ],
      "metadata": {
        "id": "TPHPxKlnY4F2"
      }
    },
    {
      "cell_type": "code",
      "execution_count": 1,
      "metadata": {
        "id": "PC4WJSaqQpvP"
      },
      "outputs": [],
      "source": [
        "import os\n",
        "import random"
      ]
    },
    {
      "cell_type": "code",
      "source": [
        "import numpy as np\n",
        "import pandas as pd\n",
        "import tensorflow as tf\n",
        "from tensorflow.keras import backend as K\n",
        "from tensorflow.keras.layers import Dense, Dropout, Flatten, Conv2D, MaxPool2D, Input\n",
        "from tensorflow.keras.models import Sequential, load_model\n",
        "from tensorflow.keras.callbacks import ModelCheckpoint\n",
        "from sklearn.preprocessing import StandardScaler\n",
        "from sklearn.metrics import accuracy_score, f1_score, mean_absolute_error"
      ],
      "metadata": {
        "id": "9pqqy6bkQqhH"
      },
      "execution_count": 3,
      "outputs": []
    },
    {
      "cell_type": "markdown",
      "source": [
        "### 2. Preprocessing"
      ],
      "metadata": {
        "id": "vWDr-ChWZA74"
      }
    },
    {
      "cell_type": "markdown",
      "source": [
        "The data is split into training and testing set. Further, the training set is divided into training and validation."
      ],
      "metadata": {
        "id": "39xOXkSVcBB8"
      }
    },
    {
      "cell_type": "code",
      "source": [
        "#DATADIR = \"./Dataset\"\n",
        "TRAIN_TEST_CUTOFF = '2016-04-21'\n",
        "TRAIN_VALID_RATIO = 0.75"
      ],
      "metadata": {
        "id": "FVov7ydcRuJR"
      },
      "execution_count": 4,
      "outputs": []
    },
    {
      "cell_type": "markdown",
      "source": [
        "The data is organised into dictionaries with the keys of the dictionary set to the name of the stock market index. Further the data is scaled using 'Standard Scaler'."
      ],
      "metadata": {
        "id": "dveDqOlMY3DQ"
      }
    },
    {
      "cell_type": "code",
      "source": [
        "data = {}\n",
        "for filename in os.listdir():\n",
        "    if not filename.lower().endswith(\".csv\"):\n",
        "        continue # read only the CSV files\n",
        "    #filepath = os.path.join(DATADIR, filename)\n",
        "    X = pd.read_csv(filename, index_col=\"Date\", parse_dates=True)\n",
        "    # basic preprocessing: get the name, the classification\n",
        "    # Save the target variable as a column in dataframe for easier dropna()\n",
        "    name = X[\"Name\"][0]\n",
        "    del X[\"Name\"]\n",
        "    cols = X.columns\n",
        "    X[\"Target\"] = (X[\"Close\"].pct_change().shift(-1) > 0).astype(int)\n",
        "    X.dropna(inplace=True)\n",
        "    # Fit the standard scaler using the training dataset\n",
        "    index = X.index[X.index < TRAIN_TEST_CUTOFF]\n",
        "    index = index[:int(len(index) * TRAIN_VALID_RATIO)]\n",
        "    scaler = StandardScaler().fit(X.loc[index, cols])\n",
        "    # Save scale transformed dataframe\n",
        "    X[cols] = scaler.transform(X[cols])\n",
        "    data[name] = X"
      ],
      "metadata": {
        "id": "DXvbymH0Y1ux"
      },
      "execution_count": 5,
      "outputs": []
    },
    {
      "cell_type": "code",
      "source": [
        "data.keys()"
      ],
      "metadata": {
        "colab": {
          "base_uri": "https://localhost:8080/"
        },
        "id": "Hmo-sWhsc1A2",
        "outputId": "f5e08437-9b0e-492d-d64f-90d53d2685d5"
      },
      "execution_count": 6,
      "outputs": [
        {
          "output_type": "execute_result",
          "data": {
            "text/plain": [
              "dict_keys(['DJI', 'NASDAQ', 'S&P', 'NYA', 'RUT'])"
            ]
          },
          "metadata": {},
          "execution_count": 6
        }
      ]
    },
    {
      "cell_type": "markdown",
      "source": [
        "A data generator is formed which can produce batches of data when called by our model."
      ],
      "metadata": {
        "id": "nEZ0-absliUc"
      }
    },
    {
      "cell_type": "code",
      "source": [
        "def datagen(data, seq_len, batch_size, targetcol, kind):\n",
        "    \"As a generator to produce samples for Keras model\"\n",
        "    batch = []\n",
        "    while True:\n",
        "        # Pick one dataframe from the pool\n",
        "        key = random.choice(list(data.keys()))\n",
        "        df = data[key]\n",
        "        input_cols = [c for c in df.columns if c != targetcol]\n",
        "        index = df.index[df.index < TRAIN_TEST_CUTOFF]\n",
        "        split = int(len(index) * TRAIN_VALID_RATIO)\n",
        "        if kind == 'train':\n",
        "            index = index[:split]   # range for the training set\n",
        "        elif kind == 'valid':\n",
        "            index = index[split:]   # range for the validation set\n",
        "        # Pick one position, then clip a sequence length\n",
        "        while True:\n",
        "            t = random.choice(index)      # pick one time step\n",
        "            n = (df.index == t).argmax()  # find its position in the dataframe\n",
        "            if n-seq_len+1 < 0:\n",
        "                continue # can't get enough data for one sequence length\n",
        "            frame = df.iloc[n-seq_len+1:n+1]\n",
        "            batch.append([frame[input_cols].values, df.loc[t, targetcol]])\n",
        "            break\n",
        "        # if we get enough for a batch, dispatch\n",
        "        if len(batch) == batch_size:\n",
        "            X, y = zip(*batch)\n",
        "            X, y = np.expand_dims(np.array(X), 3), np.array(y)\n",
        "            yield X, y\n",
        "            batch = []"
      ],
      "metadata": {
        "id": "bKhyYJIMli35"
      },
      "execution_count": 7,
      "outputs": []
    },
    {
      "cell_type": "code",
      "source": [
        "os.listdir()"
      ],
      "metadata": {
        "colab": {
          "base_uri": "https://localhost:8080/"
        },
        "id": "talq0Oytacz0",
        "outputId": "736995e6-1f91-4f17-c369-03c36310ef34"
      },
      "execution_count": 8,
      "outputs": [
        {
          "output_type": "execute_result",
          "data": {
            "text/plain": [
              "['.config',\n",
              " 'Processed_DJI.csv',\n",
              " 'Processed_NASDAQ.csv',\n",
              " 'Processed_S&P.csv',\n",
              " 'Processed_NYSE.csv',\n",
              " 'Processed_RUSSELL.csv',\n",
              " 'sample_data']"
            ]
          },
          "metadata": {},
          "execution_count": 8
        }
      ]
    },
    {
      "cell_type": "markdown",
      "source": [
        "### 3. Model Formulation"
      ],
      "metadata": {
        "id": "h9pWg171koFZ"
      }
    },
    {
      "cell_type": "markdown",
      "source": [
        "The model from the paper is implemented. It contains 2 convolution layers with number of filters = 8. The kernel size are (1x82) and (3x1). This is followed by a max pooling layer which reduces the dimension by half. It is followed by another convolution layer of kernel size = (3 x 1) and a Max Pooling layer. Then it is flattened and fed to a Dense layer which returns the output."
      ],
      "metadata": {
        "id": "zFMBE2zAdZ3v"
      }
    },
    {
      "cell_type": "code",
      "source": [
        "def cnnpred_2d(seq_len=60, n_features=82, n_filters=(8,8,8,8,8,8), droprate=0.1):\n",
        "    \"2D-CNNpred model according to the paper\"\n",
        "    model = Sequential([\n",
        "        Input(shape=(seq_len, n_features, 1)),\n",
        "        Conv2D(n_filters[0], kernel_size=(1, n_features), activation=\"relu\"),\n",
        "        Conv2D(n_filters[1], kernel_size=(3,1), activation=\"relu\"),\n",
        "        MaxPool2D(pool_size=(2,1)),\n",
        "        Conv2D(n_filters[2], kernel_size=(3,1), activation=\"relu\"),\n",
        "        MaxPool2D(pool_size=(2,1)),\n",
        "        Conv2D(n_filters[3], kernel_size=(3,1), activation=\"relu\"),\n",
        "        Conv2D(n_filters[4], kernel_size=(3,1), activation=\"relu\"),\n",
        "        Conv2D(n_filters[5], kernel_size=(3,1), activation=\"relu\"),\n",
        "        MaxPool2D(pool_size=(2,1)),\n",
        "        Flatten(),\n",
        "        Dropout(droprate),\n",
        "        Dense(4096, activation=\"relu\"),\n",
        "        Dense(4096, activation=\"relu\"),\n",
        "        Dense(1, activation=\"sigmoid\")\n",
        "    ])\n",
        "    return model"
      ],
      "metadata": {
        "id": "xONMHr7kaxXy"
      },
      "execution_count": 9,
      "outputs": []
    },
    {
      "cell_type": "markdown",
      "source": [
        "The metrics to evaluate our model are F1 score and accuracy. The mean absolute error is used as the loss function."
      ],
      "metadata": {
        "id": "UpiTfC5GfR00"
      }
    },
    {
      "cell_type": "code",
      "source": [
        "from tensorflow.keras import backend as K\n",
        "\n",
        "def recall_m(y_true, y_pred):\n",
        "    true_positives = K.sum(K.round(K.clip(y_true * y_pred, 0, 1)))\n",
        "    possible_positives = K.sum(K.round(K.clip(y_true, 0, 1)))\n",
        "    recall = true_positives / (possible_positives + K.epsilon())\n",
        "    return recall\n",
        "\n",
        "def precision_m(y_true, y_pred):\n",
        "    true_positives = K.sum(K.round(K.clip(y_true * y_pred, 0, 1)))\n",
        "    predicted_positives = K.sum(K.round(K.clip(y_pred, 0, 1)))\n",
        "    precision = true_positives / (predicted_positives + K.epsilon())\n",
        "    return precision\n",
        "\n",
        "def f1_m(y_true, y_pred):\n",
        "    precision = precision_m(y_true, y_pred)\n",
        "    recall = recall_m(y_true, y_pred)\n",
        "    return 2*((precision*recall)/(precision+recall+K.epsilon()))\n",
        "\n",
        "def f1macro(y_true, y_pred):\n",
        "    f_pos = f1_m(y_true, y_pred)\n",
        "    # negative version of the data and prediction\n",
        "    f_neg = f1_m(1-y_true, 1-K.clip(y_pred,0,1))\n",
        "    return (f_pos + f_neg)/2"
      ],
      "metadata": {
        "id": "cWbke25CGwXd"
      },
      "execution_count": 10,
      "outputs": []
    },
    {
      "cell_type": "markdown",
      "source": [
        "### 4. Model Training"
      ],
      "metadata": {
        "id": "rYyO2AhckuoR"
      }
    },
    {
      "cell_type": "code",
      "source": [
        "seq_len = 60\n",
        "batch_size = 128\n",
        "n_epochs = 20\n",
        "n_features = 82\n",
        " \n",
        "# Produce CNNpred as a binary classification problem\n",
        "model = cnnpred_2d(seq_len, n_features)\n",
        "model.compile(optimizer=\"adam\", loss=\"mae\", metrics=[\"acc\", f1macro])\n",
        "model.summary()  # print model structure to console\n",
        " \n",
        "# Set up callbacks and fit the model\n",
        "# We use custom validation score f1macro() and hence monitor for \"val_f1macro\"\n",
        "checkpoint_path = \"./cp2d-{epoch}-{val_f1macro:.2f}.h5\"\n",
        "callbacks = [\n",
        "    ModelCheckpoint(checkpoint_path,\n",
        "                    monitor='val_f1macro', mode=\"max\",\n",
        "                    verbose=0, save_best_only=True, save_weights_only=False, save_freq=\"epoch\")\n",
        "]\n",
        "model.fit(datagen(data, seq_len, batch_size, \"Target\", \"train\"),\n",
        "          validation_data=datagen(data, seq_len, batch_size, \"Target\", \"valid\"),\n",
        "          epochs=n_epochs, steps_per_epoch=400, validation_steps=10, verbose=1, callbacks=callbacks)"
      ],
      "metadata": {
        "colab": {
          "base_uri": "https://localhost:8080/"
        },
        "id": "16p2PTH4ISQk",
        "outputId": "76643e7c-0c6e-4a4b-eb4c-05682284ac6f"
      },
      "execution_count": 11,
      "outputs": [
        {
          "output_type": "stream",
          "name": "stdout",
          "text": [
            "Model: \"sequential\"\n",
            "_________________________________________________________________\n",
            " Layer (type)                Output Shape              Param #   \n",
            "=================================================================\n",
            " conv2d (Conv2D)             (None, 60, 1, 8)          664       \n",
            "                                                                 \n",
            " conv2d_1 (Conv2D)           (None, 58, 1, 8)          200       \n",
            "                                                                 \n",
            " max_pooling2d (MaxPooling2D  (None, 29, 1, 8)         0         \n",
            " )                                                               \n",
            "                                                                 \n",
            " conv2d_2 (Conv2D)           (None, 27, 1, 8)          200       \n",
            "                                                                 \n",
            " max_pooling2d_1 (MaxPooling  (None, 13, 1, 8)         0         \n",
            " 2D)                                                             \n",
            "                                                                 \n",
            " conv2d_3 (Conv2D)           (None, 11, 1, 8)          200       \n",
            "                                                                 \n",
            " conv2d_4 (Conv2D)           (None, 9, 1, 8)           200       \n",
            "                                                                 \n",
            " conv2d_5 (Conv2D)           (None, 7, 1, 8)           200       \n",
            "                                                                 \n",
            " max_pooling2d_2 (MaxPooling  (None, 3, 1, 8)          0         \n",
            " 2D)                                                             \n",
            "                                                                 \n",
            " flatten (Flatten)           (None, 24)                0         \n",
            "                                                                 \n",
            " dropout (Dropout)           (None, 24)                0         \n",
            "                                                                 \n",
            " dense (Dense)               (None, 4096)              102400    \n",
            "                                                                 \n",
            " dense_1 (Dense)             (None, 4096)              16781312  \n",
            "                                                                 \n",
            " dense_2 (Dense)             (None, 1)                 4097      \n",
            "                                                                 \n",
            "=================================================================\n",
            "Total params: 16,889,473\n",
            "Trainable params: 16,889,473\n",
            "Non-trainable params: 0\n",
            "_________________________________________________________________\n",
            "Epoch 1/20\n",
            "400/400 [==============================] - 241s 599ms/step - loss: 0.4434 - acc: 0.5571 - f1macro: 0.3572 - val_loss: 0.4727 - val_acc: 0.5273 - val_f1macro: 0.3447\n",
            "Epoch 2/20\n",
            "400/400 [==============================] - 232s 580ms/step - loss: 0.4450 - acc: 0.5550 - f1macro: 0.3564 - val_loss: 0.4805 - val_acc: 0.5195 - val_f1macro: 0.3415\n",
            "Epoch 3/20\n",
            "400/400 [==============================] - 225s 562ms/step - loss: 0.4393 - acc: 0.5607 - f1macro: 0.3587 - val_loss: 0.5023 - val_acc: 0.4977 - val_f1macro: 0.3315\n",
            "Epoch 4/20\n",
            "400/400 [==============================] - 230s 576ms/step - loss: 0.4423 - acc: 0.5577 - f1macro: 0.3575 - val_loss: 0.4812 - val_acc: 0.5188 - val_f1macro: 0.3406\n",
            "Epoch 5/20\n",
            "400/400 [==============================] - 229s 573ms/step - loss: 0.4390 - acc: 0.5610 - f1macro: 0.3589 - val_loss: 0.4883 - val_acc: 0.5117 - val_f1macro: 0.3379\n",
            "Epoch 6/20\n",
            "400/400 [==============================] - 232s 580ms/step - loss: 0.4379 - acc: 0.5621 - f1macro: 0.3592 - val_loss: 0.4914 - val_acc: 0.5086 - val_f1macro: 0.3368\n",
            "Epoch 7/20\n",
            "400/400 [==============================] - 239s 597ms/step - loss: 0.4423 - acc: 0.5577 - f1macro: 0.3575 - val_loss: 0.5047 - val_acc: 0.4953 - val_f1macro: 0.3309\n",
            "Epoch 8/20\n",
            "400/400 [==============================] - 216s 540ms/step - loss: 0.4408 - acc: 0.5592 - f1macro: 0.3581 - val_loss: 0.4742 - val_acc: 0.5258 - val_f1macro: 0.3444\n",
            "Epoch 9/20\n",
            "400/400 [==============================] - 217s 541ms/step - loss: 0.4424 - acc: 0.5576 - f1macro: 0.3575 - val_loss: 0.4930 - val_acc: 0.5070 - val_f1macro: 0.3363\n",
            "Epoch 10/20\n",
            "400/400 [==============================] - 215s 537ms/step - loss: 0.4403 - acc: 0.5597 - f1macro: 0.3584 - val_loss: 0.4938 - val_acc: 0.5063 - val_f1macro: 0.3359\n",
            "Epoch 11/20\n",
            "400/400 [==============================] - 216s 540ms/step - loss: 0.4400 - acc: 0.5600 - f1macro: 0.3584 - val_loss: 0.4719 - val_acc: 0.5281 - val_f1macro: 0.3449\n",
            "Epoch 12/20\n",
            "400/400 [==============================] - 216s 540ms/step - loss: 0.4407 - acc: 0.5593 - f1macro: 0.3581 - val_loss: 0.4727 - val_acc: 0.5273 - val_f1macro: 0.3448\n",
            "Epoch 13/20\n",
            "400/400 [==============================] - 215s 537ms/step - loss: 0.4453 - acc: 0.5547 - f1macro: 0.3563 - val_loss: 0.5109 - val_acc: 0.4891 - val_f1macro: 0.3281\n",
            "Epoch 14/20\n",
            "400/400 [==============================] - 216s 540ms/step - loss: 0.4427 - acc: 0.5573 - f1macro: 0.3574 - val_loss: 0.4797 - val_acc: 0.5203 - val_f1macro: 0.3418\n",
            "Epoch 15/20\n",
            "400/400 [==============================] - 215s 537ms/step - loss: 0.4377 - acc: 0.5623 - f1macro: 0.3594 - val_loss: 0.4750 - val_acc: 0.5250 - val_f1macro: 0.3441\n",
            "Epoch 16/20\n",
            "400/400 [==============================] - 216s 539ms/step - loss: 0.4375 - acc: 0.5625 - f1macro: 0.3595 - val_loss: 0.4922 - val_acc: 0.5078 - val_f1macro: 0.3361\n",
            "Epoch 17/20\n",
            "400/400 [==============================] - 215s 537ms/step - loss: 0.4429 - acc: 0.5571 - f1macro: 0.3573 - val_loss: 0.4828 - val_acc: 0.5172 - val_f1macro: 0.3404\n",
            "Epoch 18/20\n",
            "400/400 [==============================] - 214s 536ms/step - loss: 0.4354 - acc: 0.5646 - f1macro: 0.3604 - val_loss: 0.4688 - val_acc: 0.5312 - val_f1macro: 0.3465\n",
            "Epoch 19/20\n",
            "400/400 [==============================] - 214s 535ms/step - loss: 0.4403 - acc: 0.5597 - f1macro: 0.3583 - val_loss: 0.4734 - val_acc: 0.5266 - val_f1macro: 0.3444\n",
            "Epoch 20/20\n",
            "400/400 [==============================] - 215s 537ms/step - loss: 0.4400 - acc: 0.5600 - f1macro: 0.3584 - val_loss: 0.5039 - val_acc: 0.4961 - val_f1macro: 0.3314\n"
          ]
        },
        {
          "output_type": "execute_result",
          "data": {
            "text/plain": [
              "<keras.callbacks.History at 0x7fe96d48cbd0>"
            ]
          },
          "metadata": {},
          "execution_count": 11
        }
      ]
    },
    {
      "cell_type": "markdown",
      "source": [
        "A data generator for the test set is also prepared. The mean absolute error, accuracy and F1 score are measured and reported below."
      ],
      "metadata": {
        "id": "UYGBtI_igDLI"
      }
    },
    {
      "cell_type": "markdown",
      "source": [
        "### 5. Model Testing"
      ],
      "metadata": {
        "id": "tjtf9Tcukzo5"
      }
    },
    {
      "cell_type": "code",
      "source": [
        "def testgen(data, seq_len, targetcol):\n",
        "    \"Return array of all test samples\"\n",
        "    batch = []\n",
        "    for key, df in data.items():\n",
        "        input_cols = [c for c in df.columns if c != targetcol]\n",
        "        # find the start of test sample\n",
        "        t = df.index[df.index >= TRAIN_TEST_CUTOFF][0]\n",
        "        n = (df.index == t).argmax()\n",
        "        for i in range(n+1, len(df)+1):\n",
        "            frame = df.iloc[i-seq_len:i]\n",
        "            batch.append([frame[input_cols].values, frame[targetcol][-1]])\n",
        "    X, y = zip(*batch)\n",
        "    return np.expand_dims(np.array(X),3), np.array(y)\n",
        "\n",
        "# Prepare test data\n",
        "test_data, test_target = testgen(data, seq_len, \"Target\")\n",
        "\n",
        "# Test the model\n",
        "test_out = model.predict(test_data)\n",
        "test_pred = (test_out > 0.5).astype(int)\n",
        "print(\"accuracy:\", accuracy_score(test_pred, test_target))\n",
        "print(\"MAE:\", mean_absolute_error(test_pred, test_target))\n",
        "print(\"F1:\", f1_score(test_pred, test_target))"
      ],
      "metadata": {
        "colab": {
          "base_uri": "https://localhost:8080/"
        },
        "id": "EhNM5L20KMKe",
        "outputId": "aedbc0d6-647e-453b-e523-1a84958afc6a"
      },
      "execution_count": 12,
      "outputs": [
        {
          "output_type": "stream",
          "name": "stdout",
          "text": [
            "accuracy: 0.5375609756097561\n",
            "MAE: 0.4624390243902439\n",
            "F1: 0.6992385786802031\n"
          ]
        }
      ]
    },
    {
      "cell_type": "code",
      "source": [
        "# Prepare test data\n",
        "test_data, test_target = testgen(data, seq_len, \"Target\")\n",
        " \n",
        "# Test the model\n",
        "test_out = model.predict(test_data)\n",
        "test_pred = (test_out > 0.5).astype(int)\n",
        "print(\"accuracy:\", accuracy_score(test_pred, test_target))\n",
        "print(\"MAE:\", mean_absolute_error(test_pred, test_target))\n",
        "print(\"F1:\", f1_score(test_pred, test_target))"
      ],
      "metadata": {
        "colab": {
          "base_uri": "https://localhost:8080/"
        },
        "id": "lBUh7vjwKIle",
        "outputId": "e43515fd-fde2-4a56-f47f-5445189ed069"
      },
      "execution_count": 13,
      "outputs": [
        {
          "output_type": "stream",
          "name": "stdout",
          "text": [
            "accuracy: 0.5375609756097561\n",
            "MAE: 0.4624390243902439\n",
            "F1: 0.6992385786802031\n"
          ]
        }
      ]
    },
    {
      "cell_type": "markdown",
      "source": [
        "## 3D CNN"
      ],
      "metadata": {
        "id": "KGNR8Sr1LJmx"
      }
    },
    {
      "cell_type": "markdown",
      "source": [
        "The paper also mentioned another method of predicting the change in the stock index. It uses data from all the 5 markets to predict the change in stock index for a particular market. The code is presented below."
      ],
      "metadata": {
        "id": "u3UJ-svkgse8"
      }
    },
    {
      "cell_type": "code",
      "source": [
        "import os\n",
        "import random\n",
        "\n",
        "import numpy as np\n",
        "import pandas as pd\n",
        "import tensorflow as tf\n",
        "from tensorflow.keras import backend as K\n",
        "from tensorflow.keras.layers import Dense, Dropout, Flatten, Conv2D, MaxPool2D, Input\n",
        "from tensorflow.keras.models import Sequential, load_model\n",
        "from tensorflow.keras.callbacks import ModelCheckpoint\n",
        "from sklearn.preprocessing import StandardScaler\n",
        "from sklearn.metrics import accuracy_score, f1_score, mean_absolute_error\n",
        "\n",
        "DATADIR = \"./Dataset\"\n",
        "TRAIN_TEST_CUTOFF = '2016-04-21'\n",
        "TRAIN_VALID_RATIO = 0.75\n",
        "\n",
        "# https://datascience.stackexchange.com/questions/45165/how-to-get-accuracy-f1-precision-and-recall-for-a-keras-model\n",
        "# to implement F1 score for validation in a batch\n",
        "def recall_m(y_true, y_pred):\n",
        "    true_positives = K.sum(K.round(K.clip(y_true * y_pred, 0, 1)))\n",
        "    possible_positives = K.sum(K.round(K.clip(y_true, 0, 1)))\n",
        "    recall = true_positives / (possible_positives + K.epsilon())\n",
        "    return recall\n",
        "\n",
        "def precision_m(y_true, y_pred):\n",
        "    true_positives = K.sum(K.round(K.clip(y_true * y_pred, 0, 1)))\n",
        "    predicted_positives = K.sum(K.round(K.clip(y_pred, 0, 1)))\n",
        "    precision = true_positives / (predicted_positives + K.epsilon())\n",
        "    return precision\n",
        "\n",
        "def f1_m(y_true, y_pred):\n",
        "    precision = precision_m(y_true, y_pred)\n",
        "    recall = recall_m(y_true, y_pred)\n",
        "    return 2*((precision*recall)/(precision+recall+K.epsilon()))\n",
        "\n",
        "def f1macro(y_true, y_pred):\n",
        "    f_pos = f1_m(y_true, y_pred)\n",
        "    # negative version of the data and prediction\n",
        "    f_neg = f1_m(1-y_true, 1-K.clip(y_pred,0,1))\n",
        "    return (f_pos + f_neg)/2\n",
        "\n",
        "def cnnpred_3d(seq_len=60, n_stocks=5, n_features=82, n_filters=(8,8,8,8), droprate=0.2):\n",
        "    \"3D-CNNpred model according to the paper\"\n",
        "    model = Sequential([\n",
        "        Input(shape=(n_stocks, seq_len, n_features)),\n",
        "        Conv2D(n_filters[0], kernel_size=(1,1), activation=\"relu\", data_format=\"channels_last\"),\n",
        "        Conv2D(n_filters[1], kernel_size=(n_stocks,4), activation=\"relu\"),\n",
        "        MaxPool2D(pool_size=(1,2)),\n",
        "        Conv2D(n_filters[2], kernel_size=(1,4), activation=\"relu\"),\n",
        "        MaxPool2D(pool_size=(1,2)),\n",
        "        Conv2D(n_filters[3], kernel_size=(1,4), activation=\"relu\"),\n",
        "        Flatten(),\n",
        "        Dropout(droprate),\n",
        "        Dense(1, activation=\"sigmoid\")\n",
        "    ])\n",
        "    return model\n",
        "\n",
        "def datagen(data, seq_len, batch_size, target_index, targetcol, kind):\n",
        "    \"As a generator to produce samples for Keras model\"\n",
        "    # Learn about the data's features and time axis\n",
        "    input_cols = [c for c in data.columns if c[0] != targetcol]\n",
        "    tickers = sorted(set(c for _,c in input_cols))\n",
        "    n_features = len(input_cols) // len(tickers)\n",
        "    index = data.index[data.index < TRAIN_TEST_CUTOFF]\n",
        "    split = int(len(index) * TRAIN_VALID_RATIO)\n",
        "    assert split > seq_len, \"Training data too small for sequence length {}\".format(seq_len)\n",
        "    if kind == \"train\":\n",
        "        index = index[:split]   # range for the training set\n",
        "    elif kind == 'valid':\n",
        "        index = index[split:]   # range for the validation set\n",
        "    else:\n",
        "        raise NotImplementedError\n",
        "    # Infinite loop to generate a batch\n",
        "    batch = []\n",
        "    while True:\n",
        "        # Pick one position, then clip a sequence length\n",
        "        while True:\n",
        "            t = random.choice(index)\n",
        "            n = (data.index == t).argmax()\n",
        "            if n-seq_len+1 < 0:\n",
        "                continue # this sample is not enough for one sequence length\n",
        "            frame = data.iloc[n-seq_len+1:n+1][input_cols]\n",
        "            # convert frame with two level of indices into 3D array\n",
        "            shape = (len(tickers), len(frame), n_features)\n",
        "            X = np.full(shape, np.nan)\n",
        "            for i,ticker in enumerate(tickers):\n",
        "                X[i] = frame.xs(ticker, axis=1, level=1).values\n",
        "            batch.append([X, data[targetcol][target_index][t]])\n",
        "            break\n",
        "        # if we get enough for a batch, dispatch\n",
        "        if len(batch) == batch_size:\n",
        "            X, y = zip(*batch)\n",
        "            yield np.array(X), np.array(y)\n",
        "            batch = []\n",
        "\n",
        "def testgen(data, seq_len, target_index, targetcol):\n",
        "    \"Return array of all test samples\"\n",
        "    input_cols = [c for c in data.columns if c[0] != targetcol]\n",
        "    tickers = sorted(set(c for _,c in input_cols))\n",
        "    n_features = len(input_cols) // len(tickers)\n",
        "    t = data.index[data.index >= TRAIN_TEST_CUTOFF][0]\n",
        "    n = (data.index == t).argmax()\n",
        "    batch = []\n",
        "    for i in range(n+1, len(data)+1):\n",
        "        # Clip a window of seq_len ends at row position i-1\n",
        "        frame = data.iloc[i-seq_len:i]\n",
        "        target = frame[targetcol][target_index][-1]\n",
        "        frame = frame[input_cols]\n",
        "        # convert frame with two level of indices into 3D array\n",
        "        shape = (len(tickers), len(frame), n_features)\n",
        "        X = np.full(shape, np.nan)\n",
        "        for i,ticker in enumerate(tickers):\n",
        "            X[i] = frame.xs(ticker, axis=1, level=1).values\n",
        "        batch.append([X, target])\n",
        "    X, y = zip(*batch)\n",
        "    return np.array(X), np.array(y)\n",
        "\n",
        "# Read data into pandas DataFrames\n",
        "data = {}\n",
        "for filename in os.listdir():\n",
        "    if not filename.lower().endswith(\".csv\"):\n",
        "        continue # read only the CSV files\n",
        "    #filepath = os.path.join(DATADIR, filename)\n",
        "    X = pd.read_csv(filename, index_col=\"Date\", parse_dates=True)\n",
        "    # basic preprocessing: get the name, the classification\n",
        "    # Save the target variable as a column in dataframe for easier dropna()\n",
        "    name = X[\"Name\"][0]\n",
        "    del X[\"Name\"]\n",
        "    cols = X.columns\n",
        "    X[\"Target\"] = (X[\"Close\"].pct_change().shift(-1) > 0).astype(int)\n",
        "    X.dropna(inplace=True)\n",
        "    # Fit the standard scaler using the training dataset\n",
        "    index = X.index[X.index < TRAIN_TEST_CUTOFF]\n",
        "    index = index[:int(len(index) * TRAIN_VALID_RATIO)]\n",
        "    scaler = StandardScaler().fit(X.loc[index, cols])\n",
        "    # Save scale transformed dataframe\n",
        "    X[cols] = scaler.transform(X[cols])\n",
        "    data[name] = X\n",
        "\n",
        "# Transform data into 3D dataframe (multilevel columns)\n",
        "for key, df in data.items():\n",
        "    df.columns = pd.MultiIndex.from_product([df.columns, [key]])\n",
        "data = pd.concat(data.values(), axis=1)\n",
        "\n",
        "seq_len = 60\n",
        "batch_size = 128\n",
        "n_epochs = 25\n",
        "n_features = 82\n",
        "n_stocks = 5\n",
        "\n",
        "# Produce CNNpred as a binary classification problem\n",
        "model = cnnpred_3d(seq_len, n_stocks, n_features)\n",
        "model.compile(optimizer=\"adam\", loss=\"mae\", metrics=[\"acc\", f1macro])\n",
        "model.summary() # print model structure to console\n",
        "\n",
        "# Set up callbacks and fit the model\n",
        "# We use custom validation score f1macro() and hence monitor for \"val_f1macro\"\n",
        "checkpoint_path = \"./cp3d-{epoch}-{val_f1macro:.2f}.h5\"\n",
        "callbacks = [\n",
        "    ModelCheckpoint(checkpoint_path,\n",
        "                    monitor='val_f1macro', mode=\"max\",\n",
        "                    verbose=0, save_best_only=True, save_weights_only=False, save_freq=\"epoch\")\n",
        "]\n",
        "\n",
        "model.fit(datagen(data, seq_len, batch_size, \"DJI\", \"Target\", \"train\"),\n",
        "          validation_data=datagen(data, seq_len, batch_size, \"DJI\", \"Target\", \"valid\"),\n",
        "          epochs=n_epochs, steps_per_epoch=400, validation_steps=10, verbose=1, callbacks=callbacks)\n",
        "\n",
        "# Prepare test data\n",
        "test_data, test_target = testgen(data, seq_len, \"DJI\", \"Target\")\n",
        "\n",
        "# Test the model\n",
        "test_out = model.predict(test_data)\n",
        "test_pred = (test_out > 0.5).astype(int)\n",
        "print(\"accuracy:\", accuracy_score(test_pred, test_target))\n",
        "print(\"MAE:\", mean_absolute_error(test_pred, test_target))\n",
        "print(\"F1:\", f1_score(test_pred, test_target))"
      ],
      "metadata": {
        "colab": {
          "base_uri": "https://localhost:8080/"
        },
        "id": "fXMT8H00LJMi",
        "outputId": "a2e3ea3e-4a42-4b04-9212-49bd6591ea11"
      },
      "execution_count": null,
      "outputs": [
        {
          "output_type": "stream",
          "name": "stdout",
          "text": [
            "Model: \"sequential_1\"\n",
            "_________________________________________________________________\n",
            " Layer (type)                Output Shape              Param #   \n",
            "=================================================================\n",
            " conv2d_4 (Conv2D)           (None, 5, 60, 8)          664       \n",
            "                                                                 \n",
            " conv2d_5 (Conv2D)           (None, 1, 57, 8)          1288      \n",
            "                                                                 \n",
            " max_pooling2d_2 (MaxPooling  (None, 1, 28, 8)         0         \n",
            " 2D)                                                             \n",
            "                                                                 \n",
            " conv2d_6 (Conv2D)           (None, 1, 25, 8)          264       \n",
            "                                                                 \n",
            " max_pooling2d_3 (MaxPooling  (None, 1, 12, 8)         0         \n",
            " 2D)                                                             \n",
            "                                                                 \n",
            " conv2d_7 (Conv2D)           (None, 1, 9, 8)           264       \n",
            "                                                                 \n",
            " flatten_1 (Flatten)         (None, 72)                0         \n",
            "                                                                 \n",
            " dropout_1 (Dropout)         (None, 72)                0         \n",
            "                                                                 \n",
            " dense_1 (Dense)             (None, 1)                 73        \n",
            "                                                                 \n",
            "=================================================================\n",
            "Total params: 2,553\n",
            "Trainable params: 2,553\n",
            "Non-trainable params: 0\n",
            "_________________________________________________________________\n",
            "Epoch 1/25\n",
            "400/400 [==============================] - 443s 1s/step - loss: 0.3006 - acc: 0.7245 - f1macro: 0.6785 - val_loss: 0.4245 - val_acc: 0.5695 - val_f1macro: 0.5600\n",
            "Epoch 2/25\n",
            "400/400 [==============================] - 444s 1s/step - loss: 0.1224 - acc: 0.8921 - f1macro: 0.8896 - val_loss: 0.4709 - val_acc: 0.5219 - val_f1macro: 0.5055\n",
            "Epoch 3/25\n",
            "400/400 [==============================] - 452s 1s/step - loss: 0.0811 - acc: 0.9277 - f1macro: 0.9259 - val_loss: 0.4292 - val_acc: 0.5789 - val_f1macro: 0.5716\n",
            "Epoch 4/25\n",
            "  2/400 [..............................] - ETA: 7:11 - loss: 0.0515 - acc: 0.9570 - f1macro: 0.9569"
          ]
        }
      ]
    },
    {
      "cell_type": "markdown",
      "source": [
        "The F1 score is lower in this case and hence the performance of 2D CNN is better."
      ],
      "metadata": {
        "id": "_4VuY-79hSz8"
      }
    }
  ]
}